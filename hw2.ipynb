{
 "cells": [
  {
   "cell_type": "code",
   "execution_count": 2,
   "metadata": {},
   "outputs": [
    {
     "name": "stdout",
     "output_type": "stream",
     "text": [
      "20\n",
      "1\n",
      "1\n",
      "1\n",
      "75\n",
      "0.2\n"
     ]
    }
   ],
   "source": [
    "#第一題\n",
    "age = int(input())\n",
    "gender = int(input())\n",
    "is_wearing_mask = int(input())\n",
    "is_visiting_hermetic_space = int(input())\n",
    "number_of_contacts = int(input())\n",
    "\n",
    "if number_of_contacts > 100:\n",
    "    if is_visiting_hermetic_space==1:\n",
    "        if is_wearing_mask ==1:\n",
    "            print(0.1)\n",
    "        else:\n",
    "            print(0.95)\n",
    "    else:\n",
    "        print(0.5)  \n",
    "else:\n",
    "    if age > 40:\n",
    "        if gender == 1:\n",
    "            print(0.6) \n",
    "        else:\n",
    "            print(0.7)\n",
    "    else:\n",
    "        print(0.2)"
   ]
  },
  {
   "cell_type": "code",
   "execution_count": 13,
   "metadata": {},
   "outputs": [
    {
     "name": "stdout",
     "output_type": "stream",
     "text": [
      "3\n",
      "5\n",
      "24\n",
      "30\n",
      "7\n",
      "28\n"
     ]
    }
   ],
   "source": [
    "#第二題\n",
    "day1=int(input())\n",
    "day2=int(input())\n",
    "day3=int(input())\n",
    "day4=int(input())\n",
    "k=int(input())\n",
    "\n",
    "a=day2-day1\n",
    "b=day3-day2\n",
    "c=day4-day3\n",
    "d=0\n",
    "list1=[day1,day2,day3,day4]\n",
    "list2=[a,b,c]\n",
    "list3=[]\n",
    "\n",
    "for i in list2:\n",
    "    if i <= k:\n",
    "        d+=1\n",
    "        e=list1[d]+1\n",
    "        f=list1[d]+14\n",
    "        list3.append([e,f])\n",
    "gg=0\n",
    "g=0\n",
    "for i in range(len(list3)):\n",
    "    if i == 0:\n",
    "        pass\n",
    "    else:\n",
    "        g=list3[i][0]-list3[i-1][1]\n",
    "    if g < 0:\n",
    "        gg=gg+g-1\n",
    "        \n",
    "ans=(len(list3))*14+gg\n",
    "print(ans)"
   ]
  },
  {
   "cell_type": "code",
   "execution_count": 39,
   "metadata": {},
   "outputs": [
    {
     "name": "stdout",
     "output_type": "stream",
     "text": [
      "2\n",
      "4\n",
      "25\n",
      "31\n",
      "0\n"
     ]
    }
   ],
   "source": [
    "#第三題\n",
    "n = int(input())   #輸入n個\n",
    "k = int(input())   #門檻\n",
    "\n",
    "Day = []   #將輸入的數字丟入Day\n",
    "for i in range(n):\n",
    "    b = int(input())\n",
    "    Day.append(b)\n",
    "            \n",
    "Day_Interval = []   #將輸入的數字間隔丟入Day_Interval\n",
    "for i in range(1,len(Day)):\n",
    "    c=Day[i]-Day[i-1]     \n",
    "    Day_Interval.append(c)       \n",
    "\n",
    "Day_NeedToStop = []   #將要停課的第一天 跟 最後一天 都丟入Day_NeedToStop 以利等等判斷是否有重複停課的天數\n",
    "for i in range(len(Day_Interval)):\n",
    "    if Day_Interval[i] <= k:\n",
    "        e = Day[i+1]+1\n",
    "        f = Day[i+1]+14\n",
    "        Day_NeedToStop.append([e,f])\n",
    "\n",
    "        \n",
    "Day_Substract = 0  #先將最後要扣掉的重複天數初始化設成0\n",
    "Day_Overlap = 0   #每個案例停課的第一天減去上個案例停課的最後一天 如果小於0 代表有重複天數\n",
    "\n",
    "for i in range(len(Day_NeedToStop)):\n",
    "    if i == 0:\n",
    "        pass\n",
    "    else:\n",
    "        Day_Overlap=Day_NeedToStop[i][0]-Day_NeedToStop[i-1][1]\n",
    "    if Day_Overlap < 0:\n",
    "        Day_Substract=Day_Substract + Day_Overlap -1\n",
    "        \n",
    "ans = (len(Day_NeedToStop))*14 + Day_Substract   #最後用總停課案例乘以14天 並減去重複停課天數 即可以得到總停課天數\n",
    "print(ans)"
   ]
  },
  {
   "cell_type": "code",
   "execution_count": 49,
   "metadata": {},
   "outputs": [
    {
     "name": "stdout",
     "output_type": "stream",
     "text": [
      "100\n",
      "2\n",
      "2\n",
      "500\n",
      "7\n",
      "95\n",
      "235\n",
      "70\n",
      "120\n",
      "270\n",
      "300\n",
      "300\n",
      "哆拉 A 夢生氣了！\n",
      "哆拉 A 夢要回到未來了！\n",
      "790\n"
     ]
    }
   ],
   "source": [
    "#第四題\n",
    "\n",
    "h = int(input())\n",
    "k = int(input())\n",
    "t = int(input())\n",
    "r = int(input())\n",
    "n = int(input())\n",
    "X = []   #將輸入的x丟入X\n",
    "for i in range(n):\n",
    "    X.append(int(input()))\n",
    "             \n",
    "Disappoint = 0\n",
    "New_Disappoint = 0\n",
    "Disappoint_Count = 0            \n",
    "Use_Time = 0\n",
    "\n",
    "for i in X:\n",
    "    if i <= h:\n",
    "        New_Disappoint = -(h-i)\n",
    "        Disappoint = Disappoint + New_Disappoint\n",
    "        if Disappoint < 0:\n",
    "            Disappoint = 0\n",
    "    else:\n",
    "        Disappoint = Disappoint + k*i\n",
    "        \n",
    "    Use_Time += i\n",
    "    if Disappoint >= r:\n",
    "        Disappoint_Count += 1\n",
    "        Disappoint = 0\n",
    "        if Disappoint_Count == t:\n",
    "            print('哆拉A夢要回到未來了！')\n",
    "            break\n",
    "        print('哆拉A夢生氣了！')\n",
    "    \n",
    "print(Use_Time)"
   ]
  },
  {
   "cell_type": "code",
   "execution_count": 50,
   "metadata": {},
   "outputs": [
    {
     "data": {
      "text/plain": [
       "[95, 235, 70, 120, 270, 300, 300]"
      ]
     },
     "execution_count": 50,
     "metadata": {},
     "output_type": "execute_result"
    }
   ],
   "source": [
    "X"
   ]
  },
  {
   "cell_type": "code",
   "execution_count": null,
   "metadata": {},
   "outputs": [],
   "source": [
    "！"
   ]
  },
  {
   "cell_type": "code",
   "execution_count": null,
   "metadata": {},
   "outputs": [],
   "source": []
  },
  {
   "cell_type": "code",
   "execution_count": null,
   "metadata": {},
   "outputs": [],
   "source": []
  },
  {
   "cell_type": "code",
   "execution_count": null,
   "metadata": {},
   "outputs": [],
   "source": []
  },
  {
   "cell_type": "code",
   "execution_count": null,
   "metadata": {},
   "outputs": [],
   "source": []
  }
 ],
 "metadata": {
  "kernelspec": {
   "display_name": "Python 3",
   "language": "python",
   "name": "python3"
  },
  "language_info": {
   "codemirror_mode": {
    "name": "ipython",
    "version": 3
   },
   "file_extension": ".py",
   "mimetype": "text/x-python",
   "name": "python",
   "nbconvert_exporter": "python",
   "pygments_lexer": "ipython3",
   "version": "3.7.4"
  }
 },
 "nbformat": 4,
 "nbformat_minor": 2
}
