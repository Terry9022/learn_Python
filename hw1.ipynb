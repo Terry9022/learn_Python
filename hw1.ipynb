{
 "cells": [
  {
   "cell_type": "code",
   "execution_count": 5,
   "metadata": {},
   "outputs": [
    {
     "name": "stdout",
     "output_type": "stream",
     "text": [
      "1\n",
      "6\n",
      "6\n",
      "20\n",
      "5,14,0;3\n"
     ]
    }
   ],
   "source": [
    "#第一題\n",
    "\n",
    "day1=int(input())\n",
    "day2=int(input())\n",
    "day3=int(input())\n",
    "day4=int(input())\n",
    "\n",
    "ans1=day2-day1\n",
    "ans2=day4-day3\n",
    "a=day3-day2\n",
    "ans3=ans1*ans2*(a)\n",
    "ans4=0\n",
    "for i in (ans1,ans2,a):\n",
    "    if i <= 14:\n",
    "        ans4+=1\n",
    "print(ans1,end=',')\n",
    "print(ans2,end=',')\n",
    "print(ans3,end=';')\n",
    "print(ans4)"
   ]
  },
  {
   "cell_type": "code",
   "execution_count": 2,
   "metadata": {},
   "outputs": [
    {
     "name": "stdout",
     "output_type": "stream",
     "text": [
      "1\n",
      "6\n",
      "6\n",
      "20\n",
      "13\n",
      "5,14,0;2\n"
     ]
    }
   ],
   "source": [
    "#第二題\n",
    "\n",
    "day1=int(input())\n",
    "day2=int(input())\n",
    "day3=int(input())\n",
    "day4=int(input())\n",
    "k=int(input())\n",
    "\n",
    "ans1=day2-day1\n",
    "ans2=day4-day3\n",
    "From2To3=day3-day2\n",
    "ans3=ans1*ans2*From2To3\n",
    "ans4=0\n",
    "for i in [ans1,ans2,From2To3]:\n",
    "    if i <= k:\n",
    "        ans4+=1\n",
    "print(ans1,end=',')\n",
    "print(ans2,end=',')\n",
    "print(ans3,end=';')\n",
    "print(ans4)"
   ]
  },
  {
   "cell_type": "code",
   "execution_count": 14,
   "metadata": {},
   "outputs": [
    {
     "name": "stdout",
     "output_type": "stream",
     "text": [
      "50\n",
      "2\n",
      "1\n",
      "0\n",
      "200\n",
      "0.22\n"
     ]
    }
   ],
   "source": [
    "#第三題\n",
    "\n",
    "age = int(input())\n",
    "gender = int(input())\n",
    "is_wearing_mask = int(input())\n",
    "is_visiting_hermetic_space = int(input())\n",
    "number_of_contacts = int(input())\n",
    "prob_of_infection=0.5\n",
    "\n",
    "if age>50:\n",
    "    prob_of_infection+=0.1\n",
    "else:\n",
    "    prob_of_infection-=0.1\n",
    "if gender==1:\n",
    "    prob_of_infection=1.1*prob_of_infection\n",
    "else:\n",
    "    prob_of_infection=0.9*prob_of_infection\n",
    "if is_wearing_mask==1:\n",
    "    prob_of_infection=0.75*prob_of_infection\n",
    "else:\n",
    "    prob_of_infection=1.25*prob_of_infection\n",
    "if is_visiting_hermetic_space==1:\n",
    "    prob_of_infection1=prob_of_infection+0.18\n",
    "else:\n",
    "    prob_of_infection1=prob_of_infection-0.18\n",
    "if number_of_contacts>100:\n",
    "    prob_of_infection2=prob_of_infection1 + (number_of_contacts//15)/100\n",
    "else:\n",
    "    prob_of_infection2=prob_of_infection1 - ((100-number_of_contacts)//15)/100\n",
    "ans=prob_of_infection2\n",
    "\n",
    "for i in (prob_of_infection,prob_of_infection1,prob_of_infection2):\n",
    "    if i >=1:\n",
    "        ans=1\n",
    "    if i <=0:\n",
    "        ans=0\n",
    "        \n",
    "print(\"%.2f\" % ans)"
   ]
  },
  {
   "cell_type": "code",
   "execution_count": null,
   "metadata": {},
   "outputs": [],
   "source": []
  }
 ],
 "metadata": {
  "kernelspec": {
   "display_name": "Python 3",
   "language": "python",
   "name": "python3"
  },
  "language_info": {
   "codemirror_mode": {
    "name": "ipython",
    "version": 3
   },
   "file_extension": ".py",
   "mimetype": "text/x-python",
   "name": "python",
   "nbconvert_exporter": "python",
   "pygments_lexer": "ipython3",
   "version": "3.7.4"
  }
 },
 "nbformat": 4,
 "nbformat_minor": 2
}
