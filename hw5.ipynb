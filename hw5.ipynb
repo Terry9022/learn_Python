{
 "cells": [
  {
   "cell_type": "code",
   "execution_count": 22,
   "metadata": {},
   "outputs": [
    {
     "name": "stdout",
     "output_type": "stream",
     "text": [
      "4,6\n",
      "1,2,3,4\n",
      "9,1,2,3,4,5\n",
      "2\n"
     ]
    }
   ],
   "source": [
    "#Q1\n",
    "a=[int(i) for i in input().split(',')]\n",
    "n=a[0]\n",
    "m=a[1]\n",
    "b=[int(i) for i in input().split(',')]\n",
    "c=[int(i) for i in input().split(',')]\n",
    "\n",
    "def is_identical(x, y):\n",
    "    if x == y:\n",
    "        return True\n",
    "    else:\n",
    "        return False\n",
    "    \n",
    "find = -1\n",
    "for i in range(m):\n",
    "    z=c[i:i+n]\n",
    "    if is_identical(b, z):\n",
    "        find=i\n",
    "        break\n",
    "        \n",
    "if find >= 0:\n",
    "    print(i+1)\n",
    "else:\n",
    "    print(\"bad!\")\n",
    "    \n",
    "   \n",
    "\n"
   ]
  },
  {
   "cell_type": "code",
   "execution_count": 33,
   "metadata": {},
   "outputs": [
    {
     "name": "stdout",
     "output_type": "stream",
     "text": [
      "3,41\n",
      "2,9,1\n",
      "0,4,6\n",
      "4,0,4\n",
      "6,4,0\n",
      "2;12\n"
     ]
    }
   ],
   "source": [
    "#Q2\n",
    "input_num = input().split(',')\n",
    "n = int(input_num[0])\n",
    "V = int(input_num[1])\n",
    "\n",
    "num_list=list(range(1,n+1))\n",
    "num_candidate_list=list(range(1,n+1))\n",
    "frequencies = input().split(',') \n",
    "\n",
    "#將list裡面的元素全部轉換成int型態\n",
    "for i in range(len(frequencies)):\n",
    "    frequencies[i] = int(frequencies[i])\n",
    "#將代表城鎮 i 到各城鎮之距離放入list1之中    \n",
    "distances = []\n",
    "for i in range(n):\n",
    "    input2 = input().split(',')\n",
    "    for j in range(len(input2)):\n",
    "        input2[j] = int(input2[j])\n",
    "    distances.append(input2)\n",
    "    \n",
    "cur_locs=[]\n",
    "    \n",
    "    \n",
    "def get_initial_loc(distances, frequencies):\n",
    "    totallength = 999999999999 #總長度\n",
    "    smallest_num=0\n",
    "    for i in range(len(frequencies)):\n",
    "        length = 0 \n",
    "        for j in range(len(frequencies)):\n",
    "            distance_for_j = frequencies[j]*distances[i][j]\n",
    "            length += distance_for_j #計算出i城鎮的總長度\n",
    "\n",
    "        if length < totallength: #找出最小總長度的城鎮\n",
    "            totallength = length\n",
    "            smallest_num = i+1 #找出該城鎮的編號\n",
    "\n",
    "    \n",
    "    cur_locs.append(smallest_num)\n",
    "    num_candidate_list.remove(smallest_num)\n",
    "    \n",
    "    \n",
    "    return smallest_num,totallength\n",
    "    \n",
    "\n",
    "\n",
    "def get_next_loc(distances, cur_locs, frequencies):\n",
    "    \n",
    "    list3=[]\n",
    "    for i in num_candidate_list:\n",
    "\n",
    "        Small_distance_from_RemainTown_ToCandidate=9999999999\n",
    "\n",
    "        for j in cur_locs:\n",
    "\n",
    "            distance_from_RemainTown_ToCandidate=distances[i-1][j-1]\n",
    "\n",
    "            if distance_from_RemainTown_ToCandidate < Small_distance_from_RemainTown_ToCandidate:\n",
    "                Small_distance_from_RemainTown_ToCandidate = distance_from_RemainTown_ToCandidate\n",
    "\n",
    "        list3.append(Small_distance_from_RemainTown_ToCandidate)\n",
    "\n",
    "    now_furthest_distance = max(list3)\n",
    "    t = num_candidate_list[list3.index(now_furthest_distance)]\n",
    "    cur_locs.append(t)\n",
    "    num_candidate_list.remove(t)\n",
    "    \n",
    "    ans=0\n",
    "    list4=[]\n",
    "    for i in num_candidate_list:\n",
    "\n",
    "        Small_distance_num_candidate_list=9999999999\n",
    "\n",
    "        for j in cur_locs:\n",
    "\n",
    "            distance_num_candidate=distances[i-1][j-1]\n",
    "\n",
    "            if distance_num_candidate < Small_distance_num_candidate_list:\n",
    "                    Small_distance_num_candidate_list = distance_num_candidate\n",
    "\n",
    "        list4.append(Small_distance_num_candidate_list)\n",
    "\n",
    "    for i in range(len(num_candidate_list)):\n",
    "        ans=ans + frequencies[(num_candidate_list[i]-1)]*list4[i]\n",
    "    \n",
    "    return cur_locs,ans\n",
    "\n",
    "\n",
    "l, TTD = get_initial_loc(distances, frequencies) # 得 到 回 傳 的 TTD 和 第 一 個 選 址 l 將 l 加入 cur_locs\n",
    "while TTD > V:\n",
    "    cur_locs, TTD = get_next_loc(distances, cur_locs, frequencies) # 得 到 回 傳 TTD 和 加 入 下 一 個 選 址 t 的cur_locs\n",
    "    \n",
    "for i in cur_locs:\n",
    "    if i==cur_locs[-1]:\n",
    "        print(i,end=';')\n",
    "    else:\n",
    "        print(i,end=',')\n",
    "print(TTD)\n",
    "        \n",
    "\n",
    "    "
   ]
  },
  {
   "cell_type": "code",
   "execution_count": 31,
   "metadata": {},
   "outputs": [
    {
     "name": "stdout",
     "output_type": "stream",
     "text": [
      "5,5,7,3\n",
      "10,23,14,15\n",
      "1,2;1,5;2,3;4,5\n",
      "0,1,1,0,1\n",
      "0,1,0,1,1\n",
      "1,1,0,0,1\n",
      "1,0,1,1,0\n",
      "1,0,1,1,0\n",
      "1,0,1,1,0\n",
      "0,1,0,1,1\n",
      "1,0,1,1,0\n",
      "1,1,0,0,1\n",
      "0,1,1,0,1\n",
      "5\n"
     ]
    }
   ],
   "source": [
    "#Q3\n",
    "#讀入資料\n",
    "input_num = input().split(',')\n",
    "n = int(input_num[0])\n",
    "m = int(input_num[1])\n",
    "x = int(input_num[2])\n",
    "y = int(input_num[3])\n",
    "\n",
    "v = input().split(',') \n",
    "for i in range(len(v)):\n",
    "    v[i] = int(v[i])  #將list裡面的元素全部轉換成int型態\n",
    "    \n",
    "pair=input().split(';')\n",
    "unpair_list=[]\n",
    "for i in range(len(pair)):\n",
    "    unpair = pair[i].split(',')\n",
    "    for j in range(len(unpair)):\n",
    "        unpair[j]=int(unpair[j])\n",
    "        \n",
    "    unpair_list.append(unpair)\n",
    "    \n",
    "jobtime_list = []\n",
    "for i in range(n):\n",
    "    input1 = input().split(',')\n",
    "    for j in range(len(input1)):\n",
    "        input1[j] = int(input1[j])  #將list裡面的元素全部轉換成int型態\n",
    "    jobtime_list.append(input1)\n",
    "    \n",
    "#定義函數\n",
    "def evaluate(schedule, bad_pairs):\n",
    "    score=0\n",
    "    for i in range(len(bad_pairs)):\n",
    "        unpair_num1,unpair_num2 = bad_pairs[i][0]-1,bad_pairs[i][1]-1\n",
    "\n",
    "        part_score=0\n",
    "\n",
    "        for j in range(m):\n",
    "\n",
    "            if (schedule[unpair_num1][j]==1)and(schedule[unpair_num2][j]==1):\n",
    "                    part_score+=1\n",
    "        score+=part_score\n",
    "    return score\n",
    "\n",
    "def crossover(schedule, id1, id2):\n",
    "    \n",
    "    new_schedule=schedule.copy()\n",
    "    id1_index=id1-1\n",
    "    id2_index=id2-1\n",
    "    tmp1=new_schedule[id1_index]\n",
    "    tmp2=new_schedule[id2_index]\n",
    "    new_schedule[id2_index]=tmp1\n",
    "    new_schedule[id1_index]=tmp2\n",
    "    \n",
    "    return new_schedule\n",
    "\n",
    "def compare_best(schedule1, schedule2, bad_pairs): \n",
    "    score1=evaluate(schedule1, bad_pairs)\n",
    "    score2=evaluate(schedule2, bad_pairs)\n",
    "    if score2<score1:\n",
    "        best_schedule=schedule2\n",
    "        best_score=score2\n",
    "    else:\n",
    "        best_schedule=schedule1\n",
    "        best_score=score1\n",
    "        \n",
    "    return best_schedule, best_score\n",
    "\n",
    "def rearrange_schedule(schedule, bad_pairs): \n",
    "    best_schedule=schedule\n",
    "    schedule1=schedule\n",
    "    j=1\n",
    "    while j<=n-1:\n",
    "        schedule2=crossover(schedule1, j, j+1)\n",
    "        best_schedule, best_score=compare_best(best_schedule, schedule2, bad_pairs)    \n",
    "        j+=1\n",
    "        \n",
    "    return best_schedule, best_score\n",
    "\n",
    "#執行演算法\n",
    "best_schedule=jobtime_list #初始化\n",
    "best_score=evaluate(best_schedule, unpair_list)\n",
    "\n",
    "for i in v:\n",
    "    k=i\n",
    "    if k%y==0:\n",
    "        break\n",
    "    if k%x==0:\n",
    "        best_schedule=crossover(best_schedule, 1, n)\n",
    "        \n",
    "    best_schedule, best_score = rearrange_schedule(best_schedule, unpair_list)\n",
    "    \n",
    "\n",
    "#印出最後結果\n",
    "for i in range(len(best_schedule)):\n",
    "     for j in range(m):\n",
    "            if j==m-1:\n",
    "                print(best_schedule[i][j])\n",
    "            else:\n",
    "                print(best_schedule[i][j],end=\",\")\n",
    "print(best_score)        "
   ]
  },
  {
   "cell_type": "code",
   "execution_count": 3,
   "metadata": {},
   "outputs": [
    {
     "data": {
      "text/plain": [
       "(3, 5, 7, 3)"
      ]
     },
     "execution_count": 3,
     "metadata": {},
     "output_type": "execute_result"
    }
   ],
   "source": [
    "n,m,x,y"
   ]
  },
  {
   "cell_type": "code",
   "execution_count": 4,
   "metadata": {},
   "outputs": [
    {
     "data": {
      "text/plain": [
       "[10, 14, 15, 17]"
      ]
     },
     "execution_count": 4,
     "metadata": {},
     "output_type": "execute_result"
    }
   ],
   "source": [
    "v"
   ]
  },
  {
   "cell_type": "code",
   "execution_count": 5,
   "metadata": {},
   "outputs": [
    {
     "data": {
      "text/plain": [
       "[[2, 3]]"
      ]
     },
     "execution_count": 5,
     "metadata": {},
     "output_type": "execute_result"
    }
   ],
   "source": [
    "unpair_list"
   ]
  },
  {
   "cell_type": "code",
   "execution_count": 6,
   "metadata": {},
   "outputs": [
    {
     "data": {
      "text/plain": [
       "[[1, 0, 1, 1, 0], [1, 1, 0, 0, 1], [0, 1, 1, 1, 1]]"
      ]
     },
     "execution_count": 6,
     "metadata": {},
     "output_type": "execute_result"
    }
   ],
   "source": [
    "jobtime_list"
   ]
  },
  {
   "cell_type": "code",
   "execution_count": null,
   "metadata": {},
   "outputs": [],
   "source": []
  }
 ],
 "metadata": {
  "kernelspec": {
   "display_name": "Python 3",
   "language": "python",
   "name": "python3"
  },
  "language_info": {
   "codemirror_mode": {
    "name": "ipython",
    "version": 3
   },
   "file_extension": ".py",
   "mimetype": "text/x-python",
   "name": "python",
   "nbconvert_exporter": "python",
   "pygments_lexer": "ipython3",
   "version": "3.7.4"
  }
 },
 "nbformat": 4,
 "nbformat_minor": 2
}
