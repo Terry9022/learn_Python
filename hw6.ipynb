{
 "cells": [
  {
   "cell_type": "code",
   "execution_count": 44,
   "metadata": {},
   "outputs": [
    {
     "name": "stdout",
     "output_type": "stream",
     "text": [
      "nice,wonderful,excellent,great,awesome,Good\n",
      "bad,ugly,sad,Cry,TERRIBLE,disappoint\n",
      "Last semester, I got a terrible grade in English.I felt sad and couldn't help crying since I was disappointed with myself. Thus, I worked hard this semester and finally did an excellent job in the test. That was awesome! It makes me feel so good.I will keep working hard.\n",
      "3,2\n"
     ]
    }
   ],
   "source": [
    "#Q1\n",
    "a=input().lower().split(',')\n",
    "b=input().lower().split(',')\n",
    "c=input().lower().replace(',',\"\").replace('.',\"\").replace(';',\"\").replace(':',\"\").replace('!',\"\").replace('?',\"\").split(' ')\n",
    "bad=0\n",
    "good=0\n",
    "for i in a:\n",
    "    good+=c.count(i)\n",
    "for i in b:\n",
    "    bad+=c.count(i)\n",
    "print(good,bad,sep=\",\")"
   ]
  },
  {
   "cell_type": "code",
   "execution_count": null,
   "metadata": {},
   "outputs": [],
   "source": [
    "#Q2\n",
    "input1=input().split(\",\")\n",
    "n=int(input1[0])\n",
    "m=int(input1[1])\n",
    "n_list=[]\n",
    "m_list=[]\n",
    "\n",
    "for i in range(n):\n",
    "    input2=input()\n",
    "    n_list.append([ int(input2[0]) , input2[2:] ])\n",
    "for i in range(m):\n",
    "    input3=input()\n",
    "    m_list.append([ int(input3[0]) , input3[2:] ])\n",
    "    \n",
    "def count_average_length(x):\n",
    "\n",
    "    x_list=x.replace(', ',\"  \").replace('. ',\"  \").replace('; ',\"  \").replace(': ',\"  \").replace('! ',\"  \").replace('? ',\"  \").split(\"  \")\n",
    "    average_length=0\n",
    "    for i in x_list:\n",
    "        one_sentence=i\n",
    "        one_sentence_list=one_sentence.split(\" \")\n",
    "        average_length+=len(one_sentence_list)\n",
    "        \n",
    "    average_length=average_length/len(x_list)\n",
    "    \n",
    "    return average_length\n",
    "\n",
    "def decide_girlorboy_and_count_error_value(y,boundary):\n",
    "    \n",
    "    \n",
    "    error_value=0\n",
    "    \n",
    "    for i in range(len(y)):\n",
    "        decide_gender=0\n",
    "        gender=int(y[i][0])\n",
    "        sentence=y[i][1]\n",
    "        average_length=count_average_length(sentence)\n",
    "        if average_length >= boundary:\n",
    "            decide_gender=2\n",
    "        else:\n",
    "            decide_gender=1\n",
    "            \n",
    "        if decide_gender!=gender:\n",
    "            error_value+=1\n",
    "            \n",
    "    return error_value\n",
    "        \n",
    "boundary_value=0\n",
    "smallest_error_value=9999999999\n",
    "\n",
    "for i in range(0,85):\n",
    "    error_value_now=decide_girlorboy_and_count_error_value(n_list,i)\n",
    "    if error_value_now<smallest_error_value:\n",
    "        smallest_error_value=error_value_now\n",
    "        boundary_value=i\n",
    "        \n",
    "test_error_value=decide_girlorboy_and_count_error_value(m_list,boundary_value)\n",
    "\n",
    "print(boundary_value,test_error_value,sep=\",\")"
   ]
  },
  {
   "cell_type": "code",
   "execution_count": 4,
   "metadata": {},
   "outputs": [
    {
     "name": "stdout",
     "output_type": "stream",
     "text": [
      "3,4\n",
      "Decrypt\n",
      "68,105,160,27,1,81,20,74,211\n",
      "shiftRow\n",
      "cycleAddByRow\n",
      "shiftColumn\n",
      "cycleAddByColumn\n"
     ]
    }
   ],
   "source": [
    "#Q3\n",
    "#讀入資料\n",
    "input1=input().split(\",\")\n",
    "n=int(input1[0])\n",
    "k=int(input1[1])\n",
    "code_type=input()\n",
    "information=input()\n",
    "instruction=[]\n",
    "if k>0:\n",
    "    for i in range(k):\n",
    "        instruction.append(input())"
   ]
  },
  {
   "cell_type": "code",
   "execution_count": 5,
   "metadata": {},
   "outputs": [],
   "source": [
    "#組成矩陣_數字"
   ]
  },
  {
   "cell_type": "code",
   "execution_count": 272,
   "metadata": {},
   "outputs": [],
   "source": [
    "#組成矩陣_字串\n",
    "length_information=len(information)\n",
    "n_2=n**2\n",
    "remain=int(length_information%n_2)\n",
    "if remain==0:\n",
    "    metrix_num= length_information//n_2\n",
    "else:\n",
    "    metrix_num= (length_information//n_2)+1\n",
    "\n",
    "if remain!=0:\n",
    "    information=information+\" \"*(n_2-remain)\n",
    "    \n",
    "information_list=[]\n",
    "for i in range(metrix_num):\n",
    "    information_slice=information[n_2*i:n_2*(i+1)]\n",
    "    information_list.append(information_slice)\n",
    "\n",
    "metrix=[]\n",
    "for k in range(metrix_num):\n",
    "\n",
    "    column=[]\n",
    "    for i in range(n):\n",
    "\n",
    "        row=[]\n",
    "        for j in range(n):\n",
    "            row.append(32)\n",
    "\n",
    "        column.append(row)\n",
    "    metrix.append(column)\n",
    "\n",
    "count_len=0\n",
    "for k in range(metrix_num):\n",
    "    \n",
    "    for i in range(n):\n",
    "        for j in range(n):\n",
    "            \n",
    "            metrix[k][i][j]=ord(information_list[k][i*n+j])"
   ]
  },
  {
   "cell_type": "code",
   "execution_count": null,
   "metadata": {},
   "outputs": [],
   "source": [
    "def shiftRow_reverse(x):\n",
    "    \n",
    "    y=[]\n",
    "    for i in range(len(x)):\n",
    "        y.append(x[i].copy())\n",
    "        \n",
    "    for i in range(len(x)):\n",
    "        for j in range(len(x)):\n",
    "        \n",
    "            y[i][j+i]=x[i][j]\n",
    "            \n",
    "    return y\n",
    "\n",
    "def shiftColumn_reverse(x):\n",
    "    y=[]\n",
    "    for i in range(len(x)):\n",
    "        y.append(x[i].copy())\n",
    "        \n",
    "    for i in range(len(x)):\n",
    "        for j in range(len(x)):\n",
    "        \n",
    "            y[i+j][j]=x[i][j]\n",
    "            \n",
    "    return y"
   ]
  },
  {
   "cell_type": "code",
   "execution_count": 273,
   "metadata": {},
   "outputs": [],
   "source": [
    "#定義函數\n",
    "\n",
    "def shiftRow(x):\n",
    "    \n",
    "    y=[]\n",
    "    for i in range(len(x)):\n",
    "        y.append(x[i].copy())\n",
    "        \n",
    "    for i in range(len(x)):\n",
    "        for j in range(len(x)):\n",
    "        \n",
    "            y[i][j-i]=x[i][j]\n",
    "            \n",
    "    return y\n",
    "    \n",
    "    \n",
    "\n",
    "def shiftColumn(x):\n",
    "    y=[]\n",
    "    for i in range(len(x)):\n",
    "        y.append(x[i].copy())\n",
    "        \n",
    "    for i in range(len(x)):\n",
    "        for j in range(len(x)):\n",
    "        \n",
    "            y[i-j][j]=x[i][j]\n",
    "            \n",
    "    return y\n"
   ]
  },
  {
   "cell_type": "code",
   "execution_count": 274,
   "metadata": {},
   "outputs": [],
   "source": [
    "def cycleAddByRow(x):\n",
    "    z=[]\n",
    "    for i in range(len(x)):\n",
    "        for j in range(len(x)):\n",
    "            z.append(x[i][j])\n",
    "            \n",
    "    v=z.copy()\n",
    "    for i in range(len(z)):\n",
    "        if i==len(z)-1:\n",
    "            v[i]=z[i]+z[0]+z[1]\n",
    "        else:\n",
    "            v[i]=z[i]+z[i+1]\n",
    "            \n",
    "    for i in range(len(v)):\n",
    "        v[i]=v[i]%256\n",
    "        \n",
    "    y=[]\n",
    "    for i in range(len(x)):\n",
    "        \n",
    "            y.append(v[len(x)*i:len(x)*(i+1)])\n",
    "\n",
    "    \n",
    "    return y"
   ]
  },
  {
   "cell_type": "code",
   "execution_count": 275,
   "metadata": {},
   "outputs": [],
   "source": [
    "def transpose(matrix):\n",
    "        new_matrix = []\n",
    "        for i in range(len(matrix[0])):\n",
    "            matrix1 = []\n",
    "            for j in range(len(matrix)):\n",
    "                matrix1.append(matrix[j][i])\n",
    "            new_matrix.append(matrix1)\n",
    "        return new_matrix"
   ]
  },
  {
   "cell_type": "code",
   "execution_count": 276,
   "metadata": {},
   "outputs": [],
   "source": [
    "def cycleAddByColumn(x):\n",
    "    z=[]\n",
    "    for i in range(len(x)):\n",
    "        for j in range(len(x)):\n",
    "            z.append(x[j][i])\n",
    "            \n",
    "    v=z.copy()\n",
    "    for i in range(len(z)):\n",
    "        if i==len(z)-1:\n",
    "            v[i]=z[i]+v[0]\n",
    "        else:\n",
    "            v[i]=z[i]+z[i+1]\n",
    "            \n",
    "    for i in range(len(v)):\n",
    "        v[i]=v[i]%256\n",
    "        \n",
    "    y=[]\n",
    "    for i in range(len(x)):\n",
    "        \n",
    "            y.append(v[len(x)*i:len(x)*(i+1)])\n",
    "            \n",
    "    y_transpose=transpose(y)\n",
    "    \n",
    "    return y_transpose"
   ]
  },
  {
   "cell_type": "code",
   "execution_count": 281,
   "metadata": {},
   "outputs": [
    {
     "name": "stdout",
     "output_type": "stream",
     "text": [
      "73,32,76,111,118,101,32,117,32,32,32,32\n"
     ]
    }
   ],
   "source": [
    "if len(instruction)!=0:\n",
    "    for i in instruction:\n",
    "        if i==\"shiftRow\":\n",
    "            for i in range(len(metrix)):\n",
    "                metrix[i]=shiftRow(metrix[i])\n",
    "        if i=='cycleAddByRow':\n",
    "            for i in range(len(metrix)):\n",
    "                metrix[i]=cycleAddByRow(metrix[i])\n",
    "        if i=='shiftColumn':\n",
    "            for i in range(len(metrix)):\n",
    "                metrix[i]=shiftColumn(metrix[i])\n",
    "        if i=='cycleAddByColumn':\n",
    "            for i in range(len(metrix)):\n",
    "                metrix[i]=cycleAddByColumn(metrix[i])\n",
    "                \n",
    "answer=[]\n",
    "for k in range(len(metrix)):\n",
    "    for i in range(n):\n",
    "        for j in range(n): \n",
    "            answer.append(metrix[k][i][j])\n",
    "            \n",
    "for i in range(len(answer)):\n",
    "    if i==len(answer)-1:\n",
    "        print(answer[i])\n",
    "    else:\n",
    "        print(answer[i],end=',')\n",
    "            "
   ]
  },
  {
   "cell_type": "code",
   "execution_count": 282,
   "metadata": {},
   "outputs": [
    {
     "data": {
      "text/plain": [
       "[73, 32, 76, 111, 118, 101, 32, 117, 32, 32, 32, 32]"
      ]
     },
     "execution_count": 282,
     "metadata": {},
     "output_type": "execute_result"
    }
   ],
   "source": [
    "answer"
   ]
  },
  {
   "cell_type": "code",
   "execution_count": null,
   "metadata": {},
   "outputs": [],
   "source": [
    "#解密\n"
   ]
  },
  {
   "cell_type": "code",
   "execution_count": null,
   "metadata": {},
   "outputs": [],
   "source": []
  },
  {
   "cell_type": "code",
   "execution_count": null,
   "metadata": {},
   "outputs": [],
   "source": []
  },
  {
   "cell_type": "code",
   "execution_count": 247,
   "metadata": {},
   "outputs": [],
   "source": [
    "try1=[[[73, 32, 76], [111, 118, 101], [32, 117, 32]]][0]"
   ]
  },
  {
   "cell_type": "code",
   "execution_count": 248,
   "metadata": {},
   "outputs": [
    {
     "data": {
      "text/plain": [
       "[[73, 32, 76], [111, 118, 101], [32, 117, 32]]"
      ]
     },
     "execution_count": 248,
     "metadata": {},
     "output_type": "execute_result"
    }
   ],
   "source": [
    "try1"
   ]
  },
  {
   "cell_type": "code",
   "execution_count": 249,
   "metadata": {},
   "outputs": [
    {
     "data": {
      "text/plain": [
       "[[73, 32, 76], [118, 101, 111], [32, 32, 117]]"
      ]
     },
     "execution_count": 249,
     "metadata": {},
     "output_type": "execute_result"
    }
   ],
   "source": [
    "try2=shiftRow(try1)\n",
    "try2"
   ]
  },
  {
   "cell_type": "code",
   "execution_count": 250,
   "metadata": {},
   "outputs": [
    {
     "data": {
      "text/plain": [
       "[[105, 108, 194], [219, 212, 143], [64, 149, 222]]"
      ]
     },
     "execution_count": 250,
     "metadata": {},
     "output_type": "execute_result"
    }
   ],
   "source": [
    "try3=cycleAddByRow(try2)\n",
    "try3"
   ]
  },
  {
   "cell_type": "code",
   "execution_count": 251,
   "metadata": {},
   "outputs": [
    {
     "data": {
      "text/plain": [
       "[[105, 212, 222], [219, 149, 194], [64, 108, 143]]"
      ]
     },
     "execution_count": 251,
     "metadata": {},
     "output_type": "execute_result"
    }
   ],
   "source": [
    "try4=shiftColumn(try3)\n",
    "try4"
   ]
  },
  {
   "cell_type": "code",
   "execution_count": 252,
   "metadata": {},
   "outputs": [
    {
     "data": {
      "text/plain": [
       "[[68, 105, 160], [27, 1, 81], [20, 74, 211]]"
      ]
     },
     "execution_count": 252,
     "metadata": {},
     "output_type": "execute_result"
    }
   ],
   "source": [
    "try5=cycleAddByColumn(try4)\n",
    "try5"
   ]
  },
  {
   "cell_type": "code",
   "execution_count": 253,
   "metadata": {},
   "outputs": [
    {
     "data": {
      "text/plain": [
       "[[68, 27, 20], [105, 1, 74], [160, 81, 211]]"
      ]
     },
     "execution_count": 253,
     "metadata": {},
     "output_type": "execute_result"
    }
   ],
   "source": [
    "try6=transpose(try5)\n",
    "try6"
   ]
  },
  {
   "cell_type": "code",
   "execution_count": null,
   "metadata": {},
   "outputs": [],
   "source": []
  },
  {
   "cell_type": "code",
   "execution_count": null,
   "metadata": {},
   "outputs": [],
   "source": []
  },
  {
   "cell_type": "code",
   "execution_count": null,
   "metadata": {},
   "outputs": [],
   "source": []
  },
  {
   "cell_type": "code",
   "execution_count": null,
   "metadata": {},
   "outputs": [],
   "source": []
  },
  {
   "cell_type": "code",
   "execution_count": null,
   "metadata": {},
   "outputs": [],
   "source": []
  },
  {
   "cell_type": "code",
   "execution_count": null,
   "metadata": {},
   "outputs": [],
   "source": []
  }
 ],
 "metadata": {
  "kernelspec": {
   "display_name": "Python 3",
   "language": "python",
   "name": "python3"
  },
  "language_info": {
   "codemirror_mode": {
    "name": "ipython",
    "version": 3
   },
   "file_extension": ".py",
   "mimetype": "text/x-python",
   "name": "python",
   "nbconvert_exporter": "python",
   "pygments_lexer": "ipython3",
   "version": "3.7.4"
  }
 },
 "nbformat": 4,
 "nbformat_minor": 2
}
