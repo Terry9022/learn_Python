{
 "cells": [
  {
   "cell_type": "code",
   "execution_count": 84,
   "metadata": {},
   "outputs": [
    {
     "name": "stdout",
     "output_type": "stream",
     "text": [
      "8,7\n",
      "3,8\n",
      "3,12\n",
      "4,9\n",
      "3,11\n",
      "4,2\n",
      "7,11\n",
      "4,9\n",
      "3,8\n",
      "C,3\n",
      "T,7,4\n",
      "P,11\n",
      "C,4\n",
      "C,1\n",
      "T,3,8\n",
      "P,6\n"
     ]
    }
   ],
   "source": [
    "#Q1\n",
    "input1=input().split(',')\n",
    "n=int(input1[0])\n",
    "m=int(input1[1])\n",
    "\n",
    "transaction=[]\n",
    "for i in range(n):\n",
    "    tmp1=input().split(',')\n",
    "    transaction.append([int(tmp1[0]),int(tmp1[1])])\n",
    "    \n",
    "lookup=[]\n",
    "for i in range(m):\n",
    "    tmp2=input().split(',')\n",
    "    lookup.append(tmp2)\n",
    "    "
   ]
  },
  {
   "cell_type": "code",
   "execution_count": 107,
   "metadata": {},
   "outputs": [],
   "source": [
    "# function to get unique values \n",
    "def unique(list1): \n",
    "  \n",
    "    # intilize a null list \n",
    "    unique_list = [] \n",
    "      \n",
    "    # traverse for all elements \n",
    "    for x in list1: \n",
    "        # check if exists in unique_list or not \n",
    "        if x not in unique_list: \n",
    "            unique_list.append(x) \n",
    "    \n",
    "    return unique_list\n",
    "\n",
    "\n",
    "#判斷每一筆交易 並根據查詢型態 輸出正確的資訊\n",
    "def lookup_transaction(one_transaction):\n",
    "    if one_transaction[0]==\"C\":\n",
    "        #C C=顧客編號\n",
    "        C=int(one_transaction[1])\n",
    "        c=[]\n",
    "        for i in range(n):\n",
    "            if transaction[i][0]==C:\n",
    "                c.append(transaction[i][1])\n",
    "\n",
    "        c=sorted(c)\n",
    "        c_unique=unique(c)\n",
    "        c_unique=sorted(c_unique)\n",
    "        if len(c)==0:\n",
    "            print(0)\n",
    "        else:\n",
    "            AboveTwoItem=[]\n",
    "            for i in c_unique:\n",
    "                AboveTwoItem.append([i,c.count(i)])\n",
    "\n",
    "            print_format=list(map(lambda x: x[0] if x[1]==1 else str(x[0])+'*'+str(x[1]),AboveTwoItem))\n",
    "            \n",
    "            for i in range(len(print_format)):\n",
    "                if i==len(print_format)-1:\n",
    "                    print(print_format[i])\n",
    "                else:\n",
    "                    print(print_format[i],end=\",\")\n",
    "\n",
    "    elif one_transaction[0]==\"T\":\n",
    "        #T\n",
    "        c_number=int(one_transaction[1])\n",
    "        item_number=int(one_transaction[2])\n",
    "        whether=False\n",
    "\n",
    "        c_purchase=[]\n",
    "        for i in range(n):\n",
    "            if transaction[i][0]==c_number:\n",
    "                c_purchase.append(transaction[i][1])\n",
    "\n",
    "        if item_number in c_purchase:\n",
    "            whether=True\n",
    "\n",
    "        if whether:\n",
    "            print(1)\n",
    "        else:\n",
    "            print(0)\n",
    "\n",
    "\n",
    "    elif one_transaction[0]==\"P\":\n",
    "        #P P=商品編號\n",
    "        P=int(one_transaction[1])\n",
    "        p=[]\n",
    "        for i in range(n):\n",
    "            if transaction[i][1]==P:\n",
    "                p.append(transaction[i][0])\n",
    "\n",
    "        p=sorted(p)\n",
    "        p_unique=unique(p)\n",
    "        if len(p)==0:\n",
    "            print(0)\n",
    "        else:\n",
    "\n",
    "            for i in range(len(p_unique)):\n",
    "                if i==len(p_unique)-1:\n",
    "                    print(p_unique[i])\n",
    "                else:\n",
    "                    print(p_unique[i],end=\",\")"
   ]
  },
  {
   "cell_type": "code",
   "execution_count": 108,
   "metadata": {},
   "outputs": [
    {
     "name": "stdout",
     "output_type": "stream",
     "text": [
      "8*2,11,12\n",
      "0\n",
      "3,7\n",
      "2,9*2\n",
      "0\n",
      "1\n",
      "0\n"
     ]
    }
   ],
   "source": [
    "for i in lookup:\n",
    "    lookup_transaction(i)"
   ]
  },
  {
   "cell_type": "code",
   "execution_count": 113,
   "metadata": {},
   "outputs": [
    {
     "name": "stdout",
     "output_type": "stream",
     "text": [
      "5,4\n",
      "3,4,1\n",
      "3,7,2\n",
      "4,9,16\n",
      "3,8,3\n",
      "3,7,4\n",
      "P,7\n",
      "C,3\n",
      "T,1,2\n",
      "S\n"
     ]
    }
   ],
   "source": [
    "#Q2\n",
    "input1=input().split(',')\n",
    "n=int(input1[0])\n",
    "m=int(input1[1])\n",
    "\n",
    "transaction=[]\n",
    "for i in range(n):\n",
    "    tmp1=input().split(',')\n",
    "    transaction.append([int(tmp1[0]),int(tmp1[1]),int(tmp1[2])])\n",
    "    \n",
    "lookup=[]\n",
    "for i in range(m):\n",
    "    tmp2=input().split(',')\n",
    "    lookup.append(tmp2)\n"
   ]
  },
  {
   "cell_type": "code",
   "execution_count": 122,
   "metadata": {},
   "outputs": [],
   "source": [
    "# function to get unique values \n",
    "def unique(list1): \n",
    "  \n",
    "    # intilize a null list \n",
    "    unique_list = [] \n",
    "      \n",
    "    # traverse for all elements \n",
    "    for x in list1: \n",
    "        # check if exists in unique_list or not \n",
    "        if x not in unique_list: \n",
    "            unique_list.append(x) \n",
    "    \n",
    "    return unique_list\n",
    "\n",
    "\n",
    "#判斷每一筆交易 並根據查詢型態 輸出正確的資訊\n",
    "def lookup_transaction(one_transaction):\n",
    "    if one_transaction[0]==\"C\":\n",
    "        #C C=顧客編號\n",
    "        C=int(one_transaction[1])\n",
    "        c=[]\n",
    "        for i in range(n):\n",
    "            if transaction[i][0]==C:\n",
    "                c+=[transaction[i][1]]*transaction[i][2]\n",
    "\n",
    "        c=sorted(c)\n",
    "        c_unique=unique(c)\n",
    "        c_unique=sorted(c_unique)\n",
    "        if len(c)==0:\n",
    "            print(0)\n",
    "        else:\n",
    "            AboveTwoItem=[]\n",
    "            for i in c_unique:\n",
    "                AboveTwoItem.append([i,c.count(i)])\n",
    "\n",
    "            print_format=list(map(lambda x: str(x[0])+'*'+str(x[1]),AboveTwoItem))\n",
    "            \n",
    "            for i in range(len(print_format)):\n",
    "                if i==len(print_format)-1:\n",
    "                    print(print_format[i])\n",
    "                else:\n",
    "                    print(print_format[i],end=\",\")\n",
    "\n",
    "    elif one_transaction[0]==\"T\":\n",
    "        #T\n",
    "        c_number=int(one_transaction[1])\n",
    "        item_number=int(one_transaction[2])\n",
    "        whether=False\n",
    "\n",
    "        c_purchase=[]\n",
    "        for i in range(n):\n",
    "            if transaction[i][0]==c_number:\n",
    "                c_purchase.append(transaction[i][1])\n",
    "\n",
    "        if item_number in c_purchase:\n",
    "            whether=True\n",
    "\n",
    "        if whether:\n",
    "            print(1)\n",
    "        else:\n",
    "            print(0)\n",
    "\n",
    "\n",
    "    elif one_transaction[0]==\"P\":\n",
    "        #P P=商品編號\n",
    "        P=int(one_transaction[1])\n",
    "        p=[]\n",
    "        for i in range(n):\n",
    "            if transaction[i][1]==P:\n",
    "                p.append(transaction[i][0])\n",
    "\n",
    "        p=sorted(p)\n",
    "        p_unique=unique(p)\n",
    "        if len(p)==0:\n",
    "            print(0)\n",
    "        else:\n",
    "\n",
    "            for i in range(len(p_unique)):\n",
    "                if i==len(p_unique)-1:\n",
    "                    print(p_unique[i])\n",
    "                else:\n",
    "                    print(p_unique[i],end=\",\")\n",
    "                    \n",
    "    elif one_transaction[0]==\"S\": \n",
    "        s=[]\n",
    "        for i in range(n):\n",
    "            s+=[transaction[i][1]]*transaction[i][2]\n",
    "        s=sorted(s)\n",
    "        s_unique=unique(s)\n",
    "        s_unique=sorted(s_unique)\n",
    "        most_count=0\n",
    "        for i in s_unique:\n",
    "            if s.count(i)>=most_count:\n",
    "                most_count=s.count(i)\n",
    "        s_ans=[]         \n",
    "        for i in s_unique:\n",
    "            if s.count(i)==most_count:\n",
    "                s_ans.append(i)\n",
    "                \n",
    "        for i in range(len(s_ans)):\n",
    "            if i==len(s_ans)-1:\n",
    "                print(s_ans[i])\n",
    "            else:\n",
    "                print(s_ans[i],end=\",\")\n"
   ]
  },
  {
   "cell_type": "code",
   "execution_count": 123,
   "metadata": {},
   "outputs": [
    {
     "name": "stdout",
     "output_type": "stream",
     "text": [
      "3\n",
      "4*1,7*6,8*3\n",
      "0\n",
      "9\n"
     ]
    }
   ],
   "source": [
    "for i in lookup:\n",
    "    lookup_transaction(i)"
   ]
  },
  {
   "cell_type": "code",
   "execution_count": null,
   "metadata": {},
   "outputs": [],
   "source": []
  },
  {
   "cell_type": "code",
   "execution_count": 236,
   "metadata": {},
   "outputs": [
    {
     "name": "stdout",
     "output_type": "stream",
     "text": [
      "1983/12/01\n",
      "1\n",
      "2\n",
      "熊熊熊\n"
     ]
    }
   ],
   "source": [
    "#Q3\n",
    "import datetime \n",
    "date=input()\n",
    "path1=input()\n",
    "path2=input()\n",
    "keyword=input()\n",
    "date=datetime.datetime.strptime( date,\"%Y/%m/%d\")\n",
    "date2=date+datetime.timedelta(days = 1) "
   ]
  },
  {
   "cell_type": "code",
   "execution_count": 237,
   "metadata": {},
   "outputs": [],
   "source": [
    "path1='/Users/terrylu/Desktop/呂紀廷/台灣大學/大三下/商管程設/PBC108-2_hw7/memory.csv'\n",
    "path2='/Users/terrylu/Desktop/呂紀廷/台灣大學/大三下/商管程設/PBC108-2_hw7/movie.csv'"
   ]
  },
  {
   "cell_type": "code",
   "execution_count": 238,
   "metadata": {},
   "outputs": [],
   "source": [
    "memory=[]\n",
    "with open(file=path1, mode=\"r\", encoding=\"utf-8\") as f:\n",
    "    null=f.readline()\n",
    "    for line in f:\n",
    "        memory.append(line.strip().split(','))\n",
    "        \n",
    "    f.close()\n",
    "        \n",
    "movie=[]\n",
    "with open(file=path2, mode=\"r\", encoding=\"utf-8\") as f:\n",
    "    null=f.readline()\n",
    "    for line in f:\n",
    "        movie.append(line.strip().split(','))\n",
    "    f.close()   \n",
    "        \n",
    "props=[]\n",
    "\n",
    "\n",
    "for i in memory:\n",
    "    i[0]=datetime.datetime.strptime( i[0],\"%Y/%m/%d %H:%M:%S\") \n",
    "    props.append(i[1])\n",
    "    i[2]=int(i[2])\n",
    "    \n",
    "    \n",
    "for i in movie:\n",
    "    i[1]=datetime.datetime.strptime( i[1],\"%Y/%m/%d\") \n",
    "    i[2]=datetime.datetime.strptime( i[2],\"%Y/%m/%d\") \n",
    "    i[3]=i[3].split('、')    \n",
    "    \n",
    "    \n",
    "fit_movie=[]\n",
    "fit_movie_time=[]\n",
    "for i in movie:\n",
    "    if  keyword in i[3]:\n",
    "        fit_movie.append(i)\n",
    "        fit_movie_time.append([i[1],i[2]])\n",
    "        \n",
    "\n",
    "fit_memory=[]\n",
    "for i in memory:\n",
    "    for j in fit_movie_time:\n",
    "        if  j[0]<=i[0]<=j[1]:\n",
    "            if i[0]<=date:\n",
    "                fit_memory.append(i)"
   ]
  },
  {
   "cell_type": "code",
   "execution_count": 239,
   "metadata": {},
   "outputs": [],
   "source": [
    "# function to get unique values \n",
    "def unique(list1): \n",
    "  \n",
    "    # intilize a null list \n",
    "    unique_list = [] \n",
    "      \n",
    "    # traverse for all elements \n",
    "    for x in list1: \n",
    "        # check if exists in unique_list or not \n",
    "        if x not in unique_list: \n",
    "            unique_list.append(x) \n",
    "    \n",
    "    return unique_list\n",
    "\n",
    "\n",
    "\n",
    "def Get_top_props(fit_memory):\n",
    "    fit_memory_props=[]\n",
    "    fit_memory_props_helpnum=[]\n",
    "    for i in fit_memory:\n",
    "        fit_memory_props.append(i[1])\n",
    "        fit_memory_props_helpnum.append([i[1],i[2]])\n",
    "\n",
    "    fit_memory_props_unique=unique(fit_memory_props)\n",
    "\n",
    "    help_people_num=[]\n",
    "    for i in fit_memory_props_unique:\n",
    "        count=0\n",
    "        for j in fit_memory_props_helpnum:\n",
    "            if i==j[0]:\n",
    "                count+=j[1]\n",
    "        help_people_num.append(count)\n",
    "\n",
    "    important_score=[]\n",
    "    for i in range(len(fit_memory_props_unique)):\n",
    "        score=help_people_num[i]* ( len(fit_memory_props) / fit_memory_props.count(fit_memory_props_unique[i]) )**(1/2)\n",
    "        important_score.append(score) \n",
    "\n",
    "    props_fit_rank=sorted(list(zip(fit_memory_props_unique,important_score)),key = lambda s: s[0])    \n",
    "    props_fit_rank=sorted(props_fit_rank,key = lambda s: s[1],reverse = True)\n",
    "\n",
    "    fit_props=list(map(lambda x:x[0],props_fit_rank))\n",
    "    \n",
    "    \n",
    "    return fit_props\n",
    "\n"
   ]
  },
  {
   "cell_type": "code",
   "execution_count": 240,
   "metadata": {},
   "outputs": [
    {
     "name": "stdout",
     "output_type": "stream",
     "text": [
      "幻想帽、玩具兵、空氣砲\n"
     ]
    }
   ],
   "source": [
    "ans_fit=Get_top_props(fit_memory)\n",
    "ans_fit=ans_fit[:3]\n",
    "\n",
    "if len(ans_fit)<3:\n",
    "    \n",
    "    fill_num=3-len(ans_fit)\n",
    "    \n",
    "    fit_memory_until3=[]\n",
    "    for i in memory:\n",
    "        for j in movie:\n",
    "            if  j[1]<=i[0]<=j[2]:\n",
    "                if i[0]<=date2:\n",
    "                    if i[1] not in ans_fit:\n",
    "                        fit_memory_until3.append(i)\n",
    "                \n",
    "    ans_fit_until=Get_top_props(fit_memory_until3)\n",
    "    ans_fit_until=ans_fit_until[:fill_num]\n",
    "    \n",
    "    ans_fit+=ans_fit_until\n",
    "    \n",
    "    for i in range(len(ans_fit)):\n",
    "        if i==len(ans_fit)-1:\n",
    "            print(ans_fit[i])\n",
    "        else:\n",
    "            print(ans_fit[i],end='、')\n",
    "            \n",
    "            \n",
    "else:\n",
    "    \n",
    "    for i in range(len(ans_fit)):\n",
    "        if i==len(ans_fit)-1:\n",
    "            print(ans_fit[i])\n",
    "        else:\n",
    "            print(ans_fit[i],end='、')    "
   ]
  },
  {
   "cell_type": "code",
   "execution_count": null,
   "metadata": {},
   "outputs": [],
   "source": []
  },
  {
   "cell_type": "code",
   "execution_count": null,
   "metadata": {},
   "outputs": [],
   "source": []
  },
  {
   "cell_type": "code",
   "execution_count": 230,
   "metadata": {},
   "outputs": [
    {
     "data": {
      "text/plain": [
       "[[datetime.datetime(1983, 3, 22, 2, 11, 11), '放大燈', 20],\n",
       " [datetime.datetime(1983, 3, 22, 3, 11, 11), '放大燈', 1]]"
      ]
     },
     "execution_count": 230,
     "metadata": {},
     "output_type": "execute_result"
    }
   ],
   "source": [
    "fit_memory"
   ]
  },
  {
   "cell_type": "code",
   "execution_count": 231,
   "metadata": {},
   "outputs": [],
   "source": [
    "ans_fit=Get_top_props(fit_memory)"
   ]
  },
  {
   "cell_type": "code",
   "execution_count": 232,
   "metadata": {},
   "outputs": [
    {
     "data": {
      "text/plain": [
       "['放大燈']"
      ]
     },
     "execution_count": 232,
     "metadata": {},
     "output_type": "execute_result"
    }
   ],
   "source": [
    "ans_fit"
   ]
  },
  {
   "cell_type": "code",
   "execution_count": null,
   "metadata": {},
   "outputs": [],
   "source": []
  },
  {
   "cell_type": "code",
   "execution_count": null,
   "metadata": {},
   "outputs": [],
   "source": []
  },
  {
   "cell_type": "code",
   "execution_count": null,
   "metadata": {},
   "outputs": [],
   "source": []
  },
  {
   "cell_type": "code",
   "execution_count": null,
   "metadata": {},
   "outputs": [],
   "source": []
  },
  {
   "cell_type": "code",
   "execution_count": null,
   "metadata": {},
   "outputs": [],
   "source": []
  }
 ],
 "metadata": {
  "kernelspec": {
   "display_name": "Python 3",
   "language": "python",
   "name": "python3"
  },
  "language_info": {
   "codemirror_mode": {
    "name": "ipython",
    "version": 3
   },
   "file_extension": ".py",
   "mimetype": "text/x-python",
   "name": "python",
   "nbconvert_exporter": "python",
   "pygments_lexer": "ipython3",
   "version": "3.7.4"
  }
 },
 "nbformat": 4,
 "nbformat_minor": 2
}
