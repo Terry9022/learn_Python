{
 "cells": [
  {
   "cell_type": "code",
   "execution_count": 9,
   "metadata": {},
   "outputs": [
    {
     "name": "stdout",
     "output_type": "stream",
     "text": [
      "200,1\n",
      "10,10,10,10,10,25,25\n",
      "14\n"
     ]
    }
   ],
   "source": [
    "#第一題\n",
    "a = [int(i) for i in input().split(',')]\n",
    "b = [int(i) for i in input().split(',')*50]\n",
    "c = a[0]\n",
    "d = a[1]\n",
    "day=0\n",
    "ans=0\n",
    "for i in b:\n",
    "    c=c-i\n",
    "    day=day+1\n",
    "    if c < 0:\n",
    "        break\n",
    "ans=day-d  \n",
    "print(ans)"
   ]
  },
  {
   "cell_type": "code",
   "execution_count": 28,
   "metadata": {},
   "outputs": [
    {
     "name": "stdout",
     "output_type": "stream",
     "text": [
      "3,600\n",
      "300,200,150,60,100,280\n",
      "600,70,300,30,200,250\n",
      "1,3,900\n",
      "3,6,900\n",
      "5,9,900\n"
     ]
    }
   ],
   "source": [
    "#第二題\n",
    "#將三行輸入資料依序讀入\n",
    "input1 = input().split(',')\n",
    "input2 = input().split(',')\n",
    "input3 = input().split(',')\n",
    "#將list裡面的元素全部轉換成int型態\n",
    "for i in range(len(input1)):\n",
    "    input1[i] = int(input1[i])\n",
    "for i in range(len(input2)):\n",
    "    input2[i] = int(input2[i])\n",
    "for i in range(len(input3)):\n",
    "    input3[i] = int(input3[i])\n",
    "    \n",
    "disappoint = input1[0]*input1[1] #總共失望值\n",
    "num = 0\n",
    "total = 9999999999 #全部花費\n",
    "count = 0 #口味編號\n",
    "num_need = 0 #幾個銅鑼燒\n",
    "list1 = []\n",
    "list3 = []\n",
    "\n",
    "if input1[0] == 0:\n",
    "    print('happy month!')\n",
    "else:\n",
    "    \n",
    "    for i in range(len(input2)):\n",
    "        num = disappoint//input3[i]\n",
    "        if disappoint%input3[i] > 0:\n",
    "            num = num+1\n",
    "        total_now = num*input2[i] #i編號的全部花費\n",
    "        \n",
    "        if total_now <= total:\n",
    "            total = total_now\n",
    "            count = i+1\n",
    "            num_need = num\n",
    "            list1.append([count,num_need,total])\n",
    "            \n",
    "    #如果最少總花費有多種選擇，找出全部的方案，並加入list3\n",
    "    for i in range(len(list1)):\n",
    "        if list1[i][2] == total:\n",
    "            list3.append(list1[i])\n",
    "\n",
    "    for i in range(len(list3)):\n",
    "        print(list3[i][0],list3[i][1],list3[i][2],sep = ',')"
   ]
  },
  {
   "cell_type": "code",
   "execution_count": 34,
   "metadata": {},
   "outputs": [
    {
     "name": "stdout",
     "output_type": "stream",
     "text": [
      "3\n",
      "7,4,9\n",
      "0,3,5\n",
      "3,0,6\n",
      "5,6,0\n",
      "1,57\n"
     ]
    }
   ],
   "source": [
    "#第三題\n",
    "n = int(input()) #城鎮數量 以及要輸入幾列\n",
    "input1 = input().split(',') \n",
    "\n",
    "#將list裡面的元素全部轉換成int型態\n",
    "for i in range(len(input1)):\n",
    "    input1[i] = int(input1[i])\n",
    "    \n",
    "#將代表城鎮 i 到各城鎮之距離放入list1之中    \n",
    "list1 = []\n",
    "for i in range(n):\n",
    "    input2 = input().split(',')\n",
    "    for j in range(len(input2)):\n",
    "        input2[j] = int(input2[j])\n",
    "    list1.append(input2)\n",
    "\n",
    "totallength = 999999999999 #總長度\n",
    "count=0\n",
    "\n",
    "for i in range(len(input1)):\n",
    "    length = 0 \n",
    "    for j in range(len(input1)):\n",
    "        distance_for_j = input1[j]*list1[i][j]\n",
    "        length += distance_for_j #計算出i城鎮的總長度\n",
    "        \n",
    "    if length < totallength: #找出最小總長度的城鎮\n",
    "        totallength = length\n",
    "        count = i+1 #找出該城鎮的編號\n",
    "\n",
    "print(count,totallength,sep = ',')"
   ]
  },
  {
   "cell_type": "code",
   "execution_count": null,
   "metadata": {},
   "outputs": [],
   "source": []
  },
  {
   "cell_type": "code",
   "execution_count": null,
   "metadata": {},
   "outputs": [],
   "source": []
  },
  {
   "cell_type": "code",
   "execution_count": null,
   "metadata": {},
   "outputs": [],
   "source": []
  },
  {
   "cell_type": "code",
   "execution_count": null,
   "metadata": {},
   "outputs": [],
   "source": []
  },
  {
   "cell_type": "code",
   "execution_count": null,
   "metadata": {},
   "outputs": [],
   "source": []
  },
  {
   "cell_type": "code",
   "execution_count": null,
   "metadata": {},
   "outputs": [],
   "source": []
  },
  {
   "cell_type": "code",
   "execution_count": null,
   "metadata": {},
   "outputs": [],
   "source": []
  }
 ],
 "metadata": {
  "kernelspec": {
   "display_name": "Python 3",
   "language": "python",
   "name": "python3"
  },
  "language_info": {
   "codemirror_mode": {
    "name": "ipython",
    "version": 3
   },
   "file_extension": ".py",
   "mimetype": "text/x-python",
   "name": "python",
   "nbconvert_exporter": "python",
   "pygments_lexer": "ipython3",
   "version": "3.7.4"
  }
 },
 "nbformat": 4,
 "nbformat_minor": 2
}
